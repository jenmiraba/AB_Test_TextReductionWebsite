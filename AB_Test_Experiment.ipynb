{
 "cells": [
  {
   "cell_type": "markdown",
   "id": "cc5faef6",
   "metadata": {},
   "source": [
    "# A/B Testing\n",
    "\n",
    "#### Does reducing website text lead to more sign-up demos?\n",
    "\n",
    "Our objective is to determine whether reducing the amount of text on a company's website, which sells a digital product, and presenting users with a simplified version will result in an increase in sign-up demos.\n",
    "\n",
    "**Variant A**: Control Group - Current website with extensive text.\n",
    "\n",
    "**Variant B**: Test Group - Light version of the website."
   ]
  },
  {
   "cell_type": "code",
   "execution_count": 1,
   "id": "671d9022",
   "metadata": {},
   "outputs": [],
   "source": [
    "import warnings\n",
    "warnings.filterwarnings('ignore')\n",
    "\n",
    "# Libraries\n",
    "import datetime\n",
    "import matplotlib\n",
    "import numpy as np\n",
    "import pandas as pd\n",
    "import matplotlib.pyplot as plt\n",
    "import scipy.stats as scs\n",
    "from scipy import stats"
   ]
  },
  {
   "cell_type": "markdown",
   "id": "5d9682ea",
   "metadata": {},
   "source": [
    "## Load Historical Data"
   ]
  },
  {
   "cell_type": "code",
   "execution_count": 2,
   "id": "6b34df21",
   "metadata": {},
   "outputs": [
    {
     "data": {
      "text/html": [
       "<div>\n",
       "<style scoped>\n",
       "    .dataframe tbody tr th:only-of-type {\n",
       "        vertical-align: middle;\n",
       "    }\n",
       "\n",
       "    .dataframe tbody tr th {\n",
       "        vertical-align: top;\n",
       "    }\n",
       "\n",
       "    .dataframe thead th {\n",
       "        text-align: right;\n",
       "    }\n",
       "</style>\n",
       "<table border=\"1\" class=\"dataframe\">\n",
       "  <thead>\n",
       "    <tr style=\"text-align: right;\">\n",
       "      <th></th>\n",
       "      <th>id</th>\n",
       "      <th>demo</th>\n",
       "      <th>date</th>\n",
       "    </tr>\n",
       "  </thead>\n",
       "  <tbody>\n",
       "    <tr>\n",
       "      <th>0</th>\n",
       "      <td>0x6f9421</td>\n",
       "      <td>False</td>\n",
       "      <td>2020-12-26</td>\n",
       "    </tr>\n",
       "    <tr>\n",
       "      <th>1</th>\n",
       "      <td>0x59d442</td>\n",
       "      <td>False</td>\n",
       "      <td>2020-08-16</td>\n",
       "    </tr>\n",
       "    <tr>\n",
       "      <th>2</th>\n",
       "      <td>0x6db8f8</td>\n",
       "      <td>True</td>\n",
       "      <td>2020-03-18</td>\n",
       "    </tr>\n",
       "    <tr>\n",
       "      <th>3</th>\n",
       "      <td>0x68245d</td>\n",
       "      <td>False</td>\n",
       "      <td>2020-02-13</td>\n",
       "    </tr>\n",
       "    <tr>\n",
       "      <th>4</th>\n",
       "      <td>0x28566e</td>\n",
       "      <td>False</td>\n",
       "      <td>2020-09-28</td>\n",
       "    </tr>\n",
       "  </tbody>\n",
       "</table>\n",
       "</div>"
      ],
      "text/plain": [
       "         id   demo        date\n",
       "0  0x6f9421  False  2020-12-26\n",
       "1  0x59d442  False  2020-08-16\n",
       "2  0x6db8f8   True  2020-03-18\n",
       "3  0x68245d  False  2020-02-13\n",
       "4  0x28566e  False  2020-09-28"
      ]
     },
     "execution_count": 2,
     "metadata": {},
     "output_type": "execute_result"
    }
   ],
   "source": [
    "df_2020 = pd.read_csv('historical_data.csv')\n",
    "df_2020.head()"
   ]
  },
  {
   "cell_type": "code",
   "execution_count": 3,
   "id": "2bfbe3a8",
   "metadata": {},
   "outputs": [],
   "source": [
    "df_2020['date'] = pd.to_datetime(df_2020['date'])"
   ]
  },
  {
   "cell_type": "markdown",
   "id": "bd4510ec",
   "metadata": {},
   "source": [
    "## Choosing primary metric for the A/B test\n",
    "\n",
    "We'll use this metric to measure the performance of the changes on the website for the control and experimental groups and to identify whether there is a statistically significant difference between these two.\n",
    "\n",
    "The expectation is that if the website gets more demos, then this suggests the content is working. \n",
    "\n",
    "We'll use **Conversion Rate**, defined as the proportion of sessions ending up with a transaction, in this case users **signing up for a demo**.\n",
    "\n",
    "CR = #CONVERTED / (#CONVERTED + #NOTCONVERTED)"
   ]
  },
  {
   "cell_type": "markdown",
   "id": "a777c367",
   "metadata": {},
   "source": [
    "## Stating the hypothesis of the test"
   ]
  },
  {
   "cell_type": "markdown",
   "id": "281cbc26",
   "metadata": {},
   "source": [
    "## Designing the A/B test\n",
    "\n",
    "### Step 1: Statistical Hypothesis\n",
    "\n",
    "Assuming that Variant A is the control group or the current website with extensive text, and Variant B is the test group or the light version of the website, we will consider Variant B superior only if it proves to be better at a Type I error rate of 5%.\n",
    "\n",
    "We will define our hypotheses as PA and PB, representing the conversion probabilities (sign-up demos) for Variant A and Variant B, respectively.\n",
    "\n",
    "**H0: PB - PA = 0**\n",
    "\n",
    "**H1: PB - PA > 0**\n",
    "\n",
    "The null hypothesis (H0) states that there is no significant difference in conversion probability between the two variants, indicating that the amount of text on the website does not affect the chances of conversion.\n",
    "\n",
    "The alternative hypothesis (H1) states that there is a significant difference in conversion probability between the two variants, implying that the amount of text on the website may impact the likelihood of conversion."
   ]
  },
  {
   "cell_type": "markdown",
   "id": "0f53f70e",
   "metadata": {},
   "source": [
    "### Step 2: Metric to measure the success of the experiment\n",
    "\n",
    "Conversion rate, which is the percentage of visitors who sign up to try the demo product."
   ]
  },
  {
   "cell_type": "markdown",
   "id": "1f5c4478",
   "metadata": {},
   "source": [
    "### Step 3: Power Analysis\n",
    "\n",
    "$\\beta$ | Probability of Type II Error = 0.2\n",
    "\n",
    "1 - $\\beta$ | Power of the test = 0.8\n",
    "\n",
    "$\\alpha$ | Probability of Type I Error | Significance Level = 0.05\n",
    "\n",
    "$\\delta$ | Minimum Detectable Effect"
   ]
  },
  {
   "cell_type": "code",
   "execution_count": 4,
   "id": "be7c83c4",
   "metadata": {},
   "outputs": [],
   "source": [
    "alpha = 0.05  # significance level\n",
    "power = 0.8  # power"
   ]
  },
  {
   "cell_type": "markdown",
   "id": "af2e6fcd",
   "metadata": {},
   "source": [
    "To determine the success of the A/B experiment, we can calculate the conversion rate for each group, which is the number of conversions (successful sign-up demos) divided by the total number of visitors to the page. This conversion rate is equivalent to the probability of success, denoted by $p$, in a binomial distribution.\n",
    "\n",
    "Since the current website has a lot of text that may be confusing to users, we want to test whether reducing the amount of text by at least half will increase the number of sign-up demos. \n",
    "\n",
    "To calculate the conversion rate baseline, we will use historical data from the past year."
   ]
  },
  {
   "cell_type": "code",
   "execution_count": 5,
   "id": "697e7d42",
   "metadata": {},
   "outputs": [
    {
     "data": {
      "text/plain": [
       "0.1519305311938327"
      ]
     },
     "execution_count": 5,
     "metadata": {},
     "output_type": "execute_result"
    }
   ],
   "source": [
    "# baseline conversion\n",
    "bcr = df_2020['demo'].mean()\n",
    "bcr"
   ]
  },
  {
   "cell_type": "code",
   "execution_count": 6,
   "id": "e52e0133",
   "metadata": {},
   "outputs": [],
   "source": [
    "# Z_α/2 = critical value of the standard normal distribution for the level of significance\n",
    "z_a2 = 1.96"
   ]
  },
  {
   "cell_type": "code",
   "execution_count": 7,
   "id": "b5f107ef",
   "metadata": {},
   "outputs": [],
   "source": [
    "# σ = estimated standard deviation of conversion rate (we'll use historical data)\n",
    "std_dev = np.sqrt(bcr * (1 - bcr) / df_2020.shape[0])"
   ]
  },
  {
   "cell_type": "code",
   "execution_count": 8,
   "id": "c31019a3",
   "metadata": {},
   "outputs": [],
   "source": [
    "# For conversion estimated for treatment group we'll use business target 20%\n",
    "target_conversion = 0.19"
   ]
  },
  {
   "cell_type": "code",
   "execution_count": 9,
   "id": "cc1d7d2b",
   "metadata": {},
   "outputs": [
    {
     "data": {
      "text/plain": [
       "0.038069468806167295"
      ]
     },
     "execution_count": 9,
     "metadata": {},
     "output_type": "execute_result"
    }
   ],
   "source": [
    "# smallest effect that would matter in practice for the business\n",
    "mde = target_conversion - bcr\n",
    "mde"
   ]
  },
  {
   "cell_type": "markdown",
   "id": "76f8397b",
   "metadata": {},
   "source": [
    "### Step 4: Calculating sample size\n",
    "\n",
    "The z-score corresponds to a certain number of standard deviations from the mean of a normal distribution. By calculating the z-score for a specific alpha level and power, we can determine the number of standard deviations away from the null hypothesis we need to be to reject it. "
   ]
  },
  {
   "cell_type": "code",
   "execution_count": 10,
   "id": "e36dccb4",
   "metadata": {},
   "outputs": [],
   "source": [
    "def min_sample_size(p_A, mde, power, alpha, two_sided = True):\n",
    "   \n",
    "    # Normal distribution to determine z\n",
    "    standard_norm = scs.norm(0, 1)\n",
    "\n",
    "    # z-score for the desired power\n",
    "    Z_beta = standard_norm.ppf(power)\n",
    "    \n",
    "    # z-score for the desired significance level\n",
    "    if two_sided == True:\n",
    "        Z_alpha = standard_norm.ppf(1 - alpha / 2)\n",
    "        \n",
    "    else:\n",
    "        Z_alpha = standard_norm.ppf(1 - alpha)\n",
    "\n",
    "    # Average probability of the two groups\n",
    "    pooled_prob = (p_A + (p_A + mde)) / 2\n",
    "\n",
    "    # Min sample size\n",
    "    min_N = (2 * pooled_prob * (1 - pooled_prob) * (Z_beta + Z_alpha)**2 / mde **2)    \n",
    "\n",
    "    return min_N"
   ]
  },
  {
   "cell_type": "code",
   "execution_count": 11,
   "id": "c6ae346b",
   "metadata": {},
   "outputs": [
    {
     "name": "stdout",
     "output_type": "stream",
     "text": [
      "The required sample size for each group is: 1535.0\n"
     ]
    }
   ],
   "source": [
    "sample_size = min_sample_size(bcr, mde, power, alpha)\n",
    "print(f'The required sample size for each group is: {round(sample_size, 0)}')"
   ]
  },
  {
   "cell_type": "markdown",
   "id": "929c682d",
   "metadata": {},
   "source": [
    "### Step 5: Determining A/B test duration\n",
    "\n",
    "This needs to be answered before running the experiment. One approach could be using the following formula:\n",
    "\n",
    "DURATION = N / #DAILY_VISITORS"
   ]
  },
  {
   "cell_type": "code",
   "execution_count": 12,
   "id": "fbb46f85",
   "metadata": {},
   "outputs": [
    {
     "data": {
      "text/plain": [
       "3070.0"
      ]
     },
     "execution_count": 12,
     "metadata": {},
     "output_type": "execute_result"
    }
   ],
   "source": [
    "N = round(sample_size * 2, 0)\n",
    "N"
   ]
  },
  {
   "cell_type": "code",
   "execution_count": 13,
   "id": "0dab2c94",
   "metadata": {},
   "outputs": [
    {
     "name": "stdout",
     "output_type": "stream",
     "text": [
      "Average visitors per day: 127.0\n"
     ]
    }
   ],
   "source": [
    "# Daily Visitors\n",
    "daily_visitors = df_2020.groupby('date')['id'].nunique()\n",
    "avg_visitors_per_day = round(daily_visitors.sum() / daily_visitors.count(),0)\n",
    "print(f'Average visitors per day: {avg_visitors_per_day}')"
   ]
  },
  {
   "cell_type": "code",
   "execution_count": 14,
   "id": "c1de489a",
   "metadata": {},
   "outputs": [
    {
     "name": "stdout",
     "output_type": "stream",
     "text": [
      "Test Duration: 24.0 days\n"
     ]
    }
   ],
   "source": [
    "test_duration = round(N / avg_visitors_per_day, 0)\n",
    "print(f'Test Duration: {test_duration} days')"
   ]
  },
  {
   "cell_type": "markdown",
   "id": "981fdf92",
   "metadata": {},
   "source": [
    "## Running the A/B test\n",
    "\n",
    "### Load Test Data"
   ]
  },
  {
   "cell_type": "code",
   "execution_count": 15,
   "id": "d8a55d8f",
   "metadata": {},
   "outputs": [
    {
     "data": {
      "text/html": [
       "<div>\n",
       "<style scoped>\n",
       "    .dataframe tbody tr th:only-of-type {\n",
       "        vertical-align: middle;\n",
       "    }\n",
       "\n",
       "    .dataframe tbody tr th {\n",
       "        vertical-align: top;\n",
       "    }\n",
       "\n",
       "    .dataframe thead th {\n",
       "        text-align: right;\n",
       "    }\n",
       "</style>\n",
       "<table border=\"1\" class=\"dataframe\">\n",
       "  <thead>\n",
       "    <tr style=\"text-align: right;\">\n",
       "      <th></th>\n",
       "      <th>id</th>\n",
       "      <th>variant</th>\n",
       "      <th>demo</th>\n",
       "      <th>date</th>\n",
       "    </tr>\n",
       "  </thead>\n",
       "  <tbody>\n",
       "    <tr>\n",
       "      <th>0</th>\n",
       "      <td>0x49d29c</td>\n",
       "      <td>A</td>\n",
       "      <td>False</td>\n",
       "      <td>2021-01-06</td>\n",
       "    </tr>\n",
       "    <tr>\n",
       "      <th>1</th>\n",
       "      <td>0x29c248</td>\n",
       "      <td>A</td>\n",
       "      <td>False</td>\n",
       "      <td>2021-01-12</td>\n",
       "    </tr>\n",
       "    <tr>\n",
       "      <th>2</th>\n",
       "      <td>0x825ee6</td>\n",
       "      <td>A</td>\n",
       "      <td>False</td>\n",
       "      <td>2021-01-03</td>\n",
       "    </tr>\n",
       "    <tr>\n",
       "      <th>3</th>\n",
       "      <td>0x7a2332</td>\n",
       "      <td>A</td>\n",
       "      <td>False</td>\n",
       "      <td>2021-01-12</td>\n",
       "    </tr>\n",
       "    <tr>\n",
       "      <th>4</th>\n",
       "      <td>0x2dca2a</td>\n",
       "      <td>A</td>\n",
       "      <td>False</td>\n",
       "      <td>2021-01-10</td>\n",
       "    </tr>\n",
       "  </tbody>\n",
       "</table>\n",
       "</div>"
      ],
      "text/plain": [
       "         id variant   demo        date\n",
       "0  0x49d29c       A  False  2021-01-06\n",
       "1  0x29c248       A  False  2021-01-12\n",
       "2  0x825ee6       A  False  2021-01-03\n",
       "3  0x7a2332       A  False  2021-01-12\n",
       "4  0x2dca2a       A  False  2021-01-10"
      ]
     },
     "execution_count": 15,
     "metadata": {},
     "output_type": "execute_result"
    }
   ],
   "source": [
    "df = pd.read_csv('test_data.csv')\n",
    "df.head()"
   ]
  },
  {
   "cell_type": "code",
   "execution_count": 16,
   "id": "d82f0040",
   "metadata": {},
   "outputs": [],
   "source": [
    "df['date'] = pd.to_datetime(df['date'])"
   ]
  },
  {
   "cell_type": "markdown",
   "id": "5265141c",
   "metadata": {},
   "source": [
    "### EDA"
   ]
  },
  {
   "cell_type": "code",
   "execution_count": 17,
   "id": "e8e26ca6",
   "metadata": {},
   "outputs": [
    {
     "data": {
      "text/plain": [
       "(3070, 4)"
      ]
     },
     "execution_count": 17,
     "metadata": {},
     "output_type": "execute_result"
    }
   ],
   "source": [
    "df.shape"
   ]
  },
  {
   "cell_type": "code",
   "execution_count": 18,
   "id": "d59c1d70",
   "metadata": {},
   "outputs": [
    {
     "data": {
      "text/plain": [
       "id         0\n",
       "variant    0\n",
       "demo       0\n",
       "date       0\n",
       "dtype: int64"
      ]
     },
     "execution_count": 18,
     "metadata": {},
     "output_type": "execute_result"
    }
   ],
   "source": [
    "df.isnull().sum()"
   ]
  },
  {
   "cell_type": "code",
   "execution_count": 19,
   "id": "35701dfa",
   "metadata": {},
   "outputs": [
    {
     "data": {
      "text/plain": [
       "False    2529\n",
       "True      541\n",
       "Name: demo, dtype: int64"
      ]
     },
     "execution_count": 19,
     "metadata": {},
     "output_type": "execute_result"
    }
   ],
   "source": [
    "df['demo'].value_counts()"
   ]
  },
  {
   "cell_type": "code",
   "execution_count": 20,
   "id": "5194d726",
   "metadata": {},
   "outputs": [
    {
     "data": {
      "text/plain": [
       "A    1535\n",
       "B    1535\n",
       "Name: variant, dtype: int64"
      ]
     },
     "execution_count": 20,
     "metadata": {},
     "output_type": "execute_result"
    }
   ],
   "source": [
    "df['variant'].value_counts()"
   ]
  },
  {
   "cell_type": "markdown",
   "id": "04202c10",
   "metadata": {},
   "source": [
    "#### Probabilities"
   ]
  },
  {
   "cell_type": "code",
   "execution_count": 21,
   "id": "453d766e",
   "metadata": {},
   "outputs": [
    {
     "data": {
      "text/plain": [
       "50.0"
      ]
     },
     "execution_count": 21,
     "metadata": {},
     "output_type": "execute_result"
    }
   ],
   "source": [
    "# probability of user exposed to variant A\n",
    "df[df['variant'] == 'A'].shape[0] / df.shape[0] * 100"
   ]
  },
  {
   "cell_type": "code",
   "execution_count": 22,
   "id": "9188d699",
   "metadata": {},
   "outputs": [
    {
     "data": {
      "text/plain": [
       "50.0"
      ]
     },
     "execution_count": 22,
     "metadata": {},
     "output_type": "execute_result"
    }
   ],
   "source": [
    "# probability of user exposed to variant A\n",
    "df[df['variant'] == 'B'].shape[0] / df.shape[0] * 100"
   ]
  },
  {
   "cell_type": "markdown",
   "id": "0e7d26b9",
   "metadata": {},
   "source": [
    "### Total users who signed for demos "
   ]
  },
  {
   "cell_type": "code",
   "execution_count": 23,
   "id": "6af6f076",
   "metadata": {},
   "outputs": [
    {
     "data": {
      "text/plain": [
       "541"
      ]
     },
     "execution_count": 23,
     "metadata": {},
     "output_type": "execute_result"
    }
   ],
   "source": [
    "conversions = df['demo'].sum()\n",
    "conversions"
   ]
  },
  {
   "cell_type": "code",
   "execution_count": 24,
   "id": "000ffe4a",
   "metadata": {},
   "outputs": [
    {
     "data": {
      "text/plain": [
       "241"
      ]
     },
     "execution_count": 24,
     "metadata": {},
     "output_type": "execute_result"
    }
   ],
   "source": [
    "# Conversions when variant is A\n",
    "df[df['variant'] == 'A']['demo'].sum()"
   ]
  },
  {
   "cell_type": "code",
   "execution_count": 25,
   "id": "96c818f7",
   "metadata": {},
   "outputs": [
    {
     "data": {
      "text/plain": [
       "300"
      ]
     },
     "execution_count": 25,
     "metadata": {},
     "output_type": "execute_result"
    }
   ],
   "source": [
    "# Conversions when variant is B\n",
    "df[df['variant'] == 'B']['demo'].sum()"
   ]
  },
  {
   "cell_type": "code",
   "execution_count": 26,
   "id": "e40aa94e",
   "metadata": {},
   "outputs": [
    {
     "data": {
      "text/plain": [
       "0.1762214983713355"
      ]
     },
     "execution_count": 26,
     "metadata": {},
     "output_type": "execute_result"
    }
   ],
   "source": [
    "# Conversion Probability independent of variant\n",
    "df['demo'].mean()"
   ]
  },
  {
   "cell_type": "code",
   "execution_count": 27,
   "id": "2050728a",
   "metadata": {},
   "outputs": [
    {
     "data": {
      "text/plain": [
       "0.15700325732899023"
      ]
     },
     "execution_count": 27,
     "metadata": {},
     "output_type": "execute_result"
    }
   ],
   "source": [
    "# Conversion Probability when the user was exposed to variant A\n",
    "df[df['variant'] == 'A']['demo'].mean()"
   ]
  },
  {
   "cell_type": "code",
   "execution_count": 28,
   "id": "fe1094d9",
   "metadata": {},
   "outputs": [
    {
     "data": {
      "text/plain": [
       "0.19543973941368079"
      ]
     },
     "execution_count": 28,
     "metadata": {},
     "output_type": "execute_result"
    }
   ],
   "source": [
    "# Conversion Probability when the user was exposed to variant A\n",
    "df[df['variant'] == 'B']['demo'].mean()"
   ]
  },
  {
   "cell_type": "markdown",
   "id": "e236da50",
   "metadata": {},
   "source": [
    "The probability of being exposed to either variant is equal, but the probability of conversion is approximately 19% for the new variant, compared to around 16% for the old variant. \n",
    "\n",
    "Our goal now is to ensure that we have sufficient evidence to conclude that the treatment group (B) results in a significant increase in conversions."
   ]
  },
  {
   "cell_type": "markdown",
   "id": "ac99715f",
   "metadata": {},
   "source": [
    "## Analyzing test results"
   ]
  },
  {
   "cell_type": "code",
   "execution_count": 29,
   "id": "a0002cd6",
   "metadata": {},
   "outputs": [
    {
     "data": {
      "text/html": [
       "<div>\n",
       "<style scoped>\n",
       "    .dataframe tbody tr th:only-of-type {\n",
       "        vertical-align: middle;\n",
       "    }\n",
       "\n",
       "    .dataframe tbody tr th {\n",
       "        vertical-align: top;\n",
       "    }\n",
       "\n",
       "    .dataframe thead th {\n",
       "        text-align: right;\n",
       "    }\n",
       "</style>\n",
       "<table border=\"1\" class=\"dataframe\">\n",
       "  <thead>\n",
       "    <tr style=\"text-align: right;\">\n",
       "      <th></th>\n",
       "      <th>group</th>\n",
       "      <th>conversion</th>\n",
       "    </tr>\n",
       "  </thead>\n",
       "  <tbody>\n",
       "    <tr>\n",
       "      <th>0</th>\n",
       "      <td>A</td>\n",
       "      <td>False</td>\n",
       "    </tr>\n",
       "    <tr>\n",
       "      <th>1</th>\n",
       "      <td>A</td>\n",
       "      <td>False</td>\n",
       "    </tr>\n",
       "    <tr>\n",
       "      <th>2</th>\n",
       "      <td>A</td>\n",
       "      <td>False</td>\n",
       "    </tr>\n",
       "    <tr>\n",
       "      <th>3</th>\n",
       "      <td>A</td>\n",
       "      <td>False</td>\n",
       "    </tr>\n",
       "    <tr>\n",
       "      <th>4</th>\n",
       "      <td>A</td>\n",
       "      <td>False</td>\n",
       "    </tr>\n",
       "  </tbody>\n",
       "</table>\n",
       "</div>"
      ],
      "text/plain": [
       "  group  conversion\n",
       "0     A       False\n",
       "1     A       False\n",
       "2     A       False\n",
       "3     A       False\n",
       "4     A       False"
      ]
     },
     "execution_count": 29,
     "metadata": {},
     "output_type": "execute_result"
    }
   ],
   "source": [
    "df_ab = df[['variant', 'demo']].rename(columns = {'variant':'group', 'demo': 'conversion'})\n",
    "df_ab.head()"
   ]
  },
  {
   "cell_type": "code",
   "execution_count": 30,
   "id": "a1c117bb",
   "metadata": {},
   "outputs": [
    {
     "data": {
      "text/html": [
       "<div>\n",
       "<style scoped>\n",
       "    .dataframe tbody tr th:only-of-type {\n",
       "        vertical-align: middle;\n",
       "    }\n",
       "\n",
       "    .dataframe tbody tr th {\n",
       "        vertical-align: top;\n",
       "    }\n",
       "\n",
       "    .dataframe thead th {\n",
       "        text-align: right;\n",
       "    }\n",
       "</style>\n",
       "<table border=\"1\" class=\"dataframe\">\n",
       "  <thead>\n",
       "    <tr style=\"text-align: right;\">\n",
       "      <th></th>\n",
       "      <th>conversion</th>\n",
       "    </tr>\n",
       "    <tr>\n",
       "      <th>group</th>\n",
       "      <th></th>\n",
       "    </tr>\n",
       "  </thead>\n",
       "  <tbody>\n",
       "    <tr>\n",
       "      <th>A</th>\n",
       "      <td>241</td>\n",
       "    </tr>\n",
       "    <tr>\n",
       "      <th>B</th>\n",
       "      <td>300</td>\n",
       "    </tr>\n",
       "  </tbody>\n",
       "</table>\n",
       "</div>"
      ],
      "text/plain": [
       "       conversion\n",
       "group            \n",
       "A             241\n",
       "B             300"
      ]
     },
     "execution_count": 30,
     "metadata": {},
     "output_type": "execute_result"
    }
   ],
   "source": [
    "# Summarized data\n",
    "df_ab_summarized = df_ab.pivot_table(values = 'conversion', index = 'group', aggfunc = np.sum)\n",
    "df_ab_summarized"
   ]
  },
  {
   "cell_type": "code",
   "execution_count": 31,
   "id": "3c14412a",
   "metadata": {},
   "outputs": [
    {
     "data": {
      "text/html": [
       "<div>\n",
       "<style scoped>\n",
       "    .dataframe tbody tr th:only-of-type {\n",
       "        vertical-align: middle;\n",
       "    }\n",
       "\n",
       "    .dataframe tbody tr th {\n",
       "        vertical-align: top;\n",
       "    }\n",
       "\n",
       "    .dataframe thead th {\n",
       "        text-align: right;\n",
       "    }\n",
       "</style>\n",
       "<table border=\"1\" class=\"dataframe\">\n",
       "  <thead>\n",
       "    <tr style=\"text-align: right;\">\n",
       "      <th></th>\n",
       "      <th>conversion</th>\n",
       "      <th>total</th>\n",
       "    </tr>\n",
       "    <tr>\n",
       "      <th>group</th>\n",
       "      <th></th>\n",
       "      <th></th>\n",
       "    </tr>\n",
       "  </thead>\n",
       "  <tbody>\n",
       "    <tr>\n",
       "      <th>A</th>\n",
       "      <td>241</td>\n",
       "      <td>1535</td>\n",
       "    </tr>\n",
       "    <tr>\n",
       "      <th>B</th>\n",
       "      <td>300</td>\n",
       "      <td>1535</td>\n",
       "    </tr>\n",
       "  </tbody>\n",
       "</table>\n",
       "</div>"
      ],
      "text/plain": [
       "       conversion  total\n",
       "group                   \n",
       "A             241   1535\n",
       "B             300   1535"
      ]
     },
     "execution_count": 31,
     "metadata": {},
     "output_type": "execute_result"
    }
   ],
   "source": [
    "df_ab_summarized['total'] = df_ab.pivot_table(values = 'conversion', index = 'group', aggfunc = 'count')\n",
    "df_ab_summarized"
   ]
  },
  {
   "cell_type": "code",
   "execution_count": 32,
   "id": "8dc789a9",
   "metadata": {},
   "outputs": [
    {
     "data": {
      "text/html": [
       "<div>\n",
       "<style scoped>\n",
       "    .dataframe tbody tr th:only-of-type {\n",
       "        vertical-align: middle;\n",
       "    }\n",
       "\n",
       "    .dataframe tbody tr th {\n",
       "        vertical-align: top;\n",
       "    }\n",
       "\n",
       "    .dataframe thead th {\n",
       "        text-align: right;\n",
       "    }\n",
       "</style>\n",
       "<table border=\"1\" class=\"dataframe\">\n",
       "  <thead>\n",
       "    <tr style=\"text-align: right;\">\n",
       "      <th></th>\n",
       "      <th>conversion</th>\n",
       "      <th>total</th>\n",
       "      <th>rate</th>\n",
       "    </tr>\n",
       "    <tr>\n",
       "      <th>group</th>\n",
       "      <th></th>\n",
       "      <th></th>\n",
       "      <th></th>\n",
       "    </tr>\n",
       "  </thead>\n",
       "  <tbody>\n",
       "    <tr>\n",
       "      <th>A</th>\n",
       "      <td>241</td>\n",
       "      <td>1535</td>\n",
       "      <td>0.157003</td>\n",
       "    </tr>\n",
       "    <tr>\n",
       "      <th>B</th>\n",
       "      <td>300</td>\n",
       "      <td>1535</td>\n",
       "      <td>0.195440</td>\n",
       "    </tr>\n",
       "  </tbody>\n",
       "</table>\n",
       "</div>"
      ],
      "text/plain": [
       "       conversion  total      rate\n",
       "group                             \n",
       "A             241   1535  0.157003\n",
       "B             300   1535  0.195440"
      ]
     },
     "execution_count": 32,
     "metadata": {},
     "output_type": "execute_result"
    }
   ],
   "source": [
    "df_ab_summarized['rate'] = df_ab.pivot_table(values = 'conversion', index = 'group')\n",
    "df_ab_summarized"
   ]
  },
  {
   "cell_type": "code",
   "execution_count": 33,
   "id": "9badea6b",
   "metadata": {},
   "outputs": [
    {
     "name": "stdout",
     "output_type": "stream",
     "text": [
      "Demos for A were: 241\n",
      "Sample Size for A is: 1535\n",
      "Conversion rate for A is: 15.7%\n"
     ]
    }
   ],
   "source": [
    "# Values for A\n",
    "conversion_A = df_ab_summarized['conversion'][0]\n",
    "total_A = df_ab_summarized['total'][0]\n",
    "rate_A = df_ab_summarized['rate'][0]\n",
    "print(f'Demos for A were: {conversion_A}')\n",
    "print(f'Sample Size for A is: {total_A}')\n",
    "print(f'Conversion rate for A is: {round(rate_A * 100, 2)}%')"
   ]
  },
  {
   "cell_type": "code",
   "execution_count": 34,
   "id": "cd0eab40",
   "metadata": {},
   "outputs": [
    {
     "name": "stdout",
     "output_type": "stream",
     "text": [
      "Demos for B were: 300\n",
      "Sample Size for B is: 1535\n",
      "Conversion rate for B is: 19.54%\n"
     ]
    }
   ],
   "source": [
    "# Values for B\n",
    "conversion_B = df_ab_summarized['conversion'][1]\n",
    "total_B = df_ab_summarized['total'][1]\n",
    "rate_B = df_ab_summarized['rate'][1]\n",
    "print(f'Demos for B were: {conversion_B}')\n",
    "print(f'Sample Size for B is: {total_B}')\n",
    "print(f'Conversion rate for B is: {round(rate_B * 100, 2)}%')"
   ]
  },
  {
   "cell_type": "code",
   "execution_count": 35,
   "id": "cabefef7",
   "metadata": {},
   "outputs": [
    {
     "name": "stdout",
     "output_type": "stream",
     "text": [
      "Difference in Conversion rate between groups is: 0.038436482084690554\n",
      "Difference in Conversion the business wanted to study: 0.038069468806167295\n"
     ]
    }
   ],
   "source": [
    "print(f'Difference in Conversion rate between groups is: {rate_B - rate_A}')\n",
    "print(f'Difference in Conversion the business wanted to study: {mde}')"
   ]
  },
  {
   "cell_type": "markdown",
   "id": "6cb6efb3",
   "metadata": {},
   "source": [
    "### Comparing the two groups\n",
    "\n",
    "Looks like the difference in conversion rates between the two groups it's slightly bigger than the target we set. A good sign, but not enough to confidently choose to change the entire website. \n",
    "\n",
    "We can start evaluating how confident we're in the result by looking at the distribution of the two groups."
   ]
  },
  {
   "cell_type": "code",
   "execution_count": 36,
   "id": "2ee3623c",
   "metadata": {},
   "outputs": [
    {
     "name": "stdout",
     "output_type": "stream",
     "text": [
      "Baseline Conversion rate was: 15.19%\n"
     ]
    }
   ],
   "source": [
    "print(f'Baseline Conversion rate was: {round(bcr * 100, 2)}%')"
   ]
  },
  {
   "cell_type": "code",
   "execution_count": 37,
   "id": "7421115c",
   "metadata": {},
   "outputs": [],
   "source": [
    "test_binom = scs.binom(total_A, p = bcr)"
   ]
  },
  {
   "cell_type": "code",
   "execution_count": 38,
   "id": "0d00af9b",
   "metadata": {},
   "outputs": [],
   "source": [
    "test_binom_mde = scs.binom(total_A, p = bcr + mde)"
   ]
  },
  {
   "cell_type": "code",
   "execution_count": 39,
   "id": "e61dc894",
   "metadata": {},
   "outputs": [
    {
     "data": {
      "text/plain": [
       "<BarContainer object of 1536 artists>"
      ]
     },
     "execution_count": 39,
     "metadata": {},
     "output_type": "execute_result"
    },
    {
     "data": {
      "image/png": "[encoded data removed]",
      "text/plain": [
       "<Figure size 720x720 with 1 Axes>"
      ]
     },
     "metadata": {
      "needs_background": "light"
     },
     "output_type": "display_data"
    }
   ],
   "source": [
    "# Plot\n",
    "fig, ax = plt.subplots(figsize = (10, 10))\n",
    "\n",
    "# Values for X\n",
    "x = np.linspace(0, int(total_A), int(total_A) + 1)\n",
    "\n",
    "# Pmf & alfa\n",
    "ax.bar(x, test_binom.pmf(x), alpha = 0.5)\n",
    "ax.bar(x, test_binom_mde.pmf(x), alpha = 0.5)"
   ]
  },
  {
   "cell_type": "markdown",
   "id": "c59ecdaa",
   "metadata": {},
   "source": [
    "Based on the chart, it appears that Variant B (orange) has a higher conversion than Variant A (blue). However, the peak point of Variant A suggests that it may have a higher probability of conversion at that particular point. While this chart provides some insights, it is important to consider the distribution of both groups to draw a more conclusive interpretation."
   ]
  },
  {
   "cell_type": "markdown",
   "id": "cc24f7ee",
   "metadata": {},
   "source": [
    "### Distribution\n",
    "\n",
    "Let's plot the distribution of the control group and calculate the probability of obtaining the result observed in the experimental group.\n",
    "\n",
    "The distribution of the control group represents what we would expect to see if there were no effect of the change made to the experimental group.\n",
    "\n",
    "If the experimental group performs significantly better (or worse) than the control group, it suggests that the change made had an effect."
   ]
  },
  {
   "cell_type": "code",
   "execution_count": 40,
   "id": "1d9c4eaa",
   "metadata": {},
   "outputs": [
    {
     "data": {
      "text/plain": [
       "Text(0, 0.5, 'Probability')"
      ]
     },
     "execution_count": 40,
     "metadata": {},
     "output_type": "execute_result"
    },
    {
     "data": {
      "image/png": "[encoded data removed]",
      "text/plain": [
       "<Figure size 1008x432 with 1 Axes>"
      ]
     },
     "metadata": {
      "needs_background": "light"
     },
     "output_type": "display_data"
    }
   ],
   "source": [
    "fig, ax = plt.subplots(figsize = (14, 6))\n",
    "\n",
    "# Test A\n",
    "x = np.linspace(conversion_A - 74, conversion_A + 75, 150)\n",
    "y = scs.binom(total_A, rate_A).pmf(x)\n",
    "\n",
    "# Bar that represents expected number of conversions for B if it had the same number of observations as Test A.\n",
    "ax.bar(x, y, alpha = 0.5)\n",
    "ax.axvline(x = rate_B * total_A, c = 'red', alpha = 0.75, linestyle = '--')\n",
    "\n",
    "# Labels\n",
    "plt.xlabel('Conversion')\n",
    "plt.ylabel('Probability')"
   ]
  },
  {
   "cell_type": "markdown",
   "id": "01be5bb5",
   "metadata": {},
   "source": [
    "The distribution for the control group is shown in blue and the result from the test group is indicated by the red dashed line. We can see that the probability of getting the result from the test group (B) was close to cero.\n",
    "\n",
    "However, probability alone does not convey the confidence level of the results. The confidence level represents how confident we are in the conclusion we draw based on the probability. It takes into account the sample size of the test group, which is the number of observations that we have in our experiment.\n",
    "\n",
    "A larger sample size generally results in a more accurate estimate of the true population parameter (in this case, the conversion rate) and a higher level of confidence in the results. \n",
    "\n",
    "Let’s plot the test group results as a binomial distribution and compare the distributions against each other."
   ]
  },
  {
   "cell_type": "code",
   "execution_count": 41,
   "id": "c484f5f4",
   "metadata": {},
   "outputs": [
    {
     "data": {
      "text/plain": [
       "Text(0, 0.5, 'Probability')"
      ]
     },
     "execution_count": 41,
     "metadata": {},
     "output_type": "execute_result"
    },
    {
     "data": {
      "image/png": "[encoded data removed]",
      "text/plain": [
       "<Figure size 1008x432 with 1 Axes>"
      ]
     },
     "metadata": {
      "needs_background": "light"
     },
     "output_type": "display_data"
    }
   ],
   "source": [
    "fig, ax = plt.subplots(figsize = (14, 6))\n",
    "\n",
    "# A\n",
    "xA = np.linspace(conversion_A - 74, conversion_A + 75, 150)\n",
    "yA = scs.binom(total_A, rate_A).pmf(xA)\n",
    "ax.bar(xA, yA, alpha = 0.5)\n",
    "\n",
    "# B\n",
    "xB = np.linspace(conversion_B - 74, conversion_B + 75, 150)\n",
    "yB = scs.binom(total_B, rate_B).pmf(xB)\n",
    "ax.bar(xB, yB, alpha = 0.5)\n",
    "\n",
    "# Labels\n",
    "plt.xlabel('Conversion')\n",
    "plt.ylabel('Probability')"
   ]
  },
  {
   "cell_type": "markdown",
   "id": "c88579f0",
   "metadata": {},
   "source": [
    "The test group (orange) converted more users than the control group (blue). Also, the peak of the test group results is lower than the control group. To interpret this difference in peak probability we need to standardize the data and compare the probability of successes, p, for each group."
   ]
  },
  {
   "cell_type": "markdown",
   "id": "07bda2e9",
   "metadata": {},
   "source": [
    "#### Normal distribution to plot PDF for both variants\n",
    "\n",
    "We are interested here to see the probability of observing each possible conversion rate within a range of values around the observed conversion rate."
   ]
  },
  {
   "cell_type": "code",
   "execution_count": 42,
   "id": "34124aaf",
   "metadata": {},
   "outputs": [],
   "source": [
    "p_A = rate_A\n",
    "p_B = rate_B\n",
    "N_A = total_A\n",
    "N_B = total_B"
   ]
  },
  {
   "cell_type": "code",
   "execution_count": 43,
   "id": "7397552a",
   "metadata": {},
   "outputs": [],
   "source": [
    "# Standard error of the mean of each group\n",
    "SE_A = np.sqrt(p_A * (1 - p_A)) / np.sqrt(total_A)\n",
    "SE_B = np.sqrt(p_B * (1 - p_B)) / np.sqrt(total_B)"
   ]
  },
  {
   "cell_type": "code",
   "execution_count": 44,
   "id": "cfd12cb2",
   "metadata": {},
   "outputs": [
    {
     "data": {
      "image/png": "[encoded data removed]",
      "text/plain": [
       "<Figure size 864x432 with 1 Axes>"
      ]
     },
     "metadata": {
      "needs_background": "light"
     },
     "output_type": "display_data"
    }
   ],
   "source": [
    "# Define the x-axis range for the plot\n",
    "xA_SE = np.linspace(p_A - 4 * SE_A, p_A + 4 * SE_A, 150)\n",
    "xB_SE = np.linspace(p_B - 4 * SE_B, p_B + 4 * SE_B, 150)\n",
    "\n",
    "# Calculate the probability density function (PDF)\n",
    "yA = scs.norm(p_A, SE_A).pdf(xA_SE)\n",
    "yB = scs.norm(p_B, SE_B).pdf(xB_SE)\n",
    "\n",
    "# Plot the PDF for variant A\n",
    "fig, ax = plt.subplots(figsize = (12, 6))\n",
    "ax.plot(xA_SE, yA)\n",
    "ax.plot(xB_SE, yB)\n",
    "ax.axvline(x = p_A, c = 'blue', alpha = 0.7, linestyle = '--')\n",
    "ax.axvline(x = p_B, c = 'orange', alpha = 0.7, linestyle = '--')\n",
    "\n",
    "# Add labels and title to the plot\n",
    "plt.xlabel('Converted Proportion')\n",
    "plt.ylabel('Probability Density Function')\n",
    "plt.title('PDF for Variant A & B')\n",
    "\n",
    "# Show the plot\n",
    "plt.show()"
   ]
  },
  {
   "cell_type": "markdown",
   "id": "6e15a236",
   "metadata": {},
   "source": [
    "The blue and orange solid lines indicate the average conversion rate for the control and test groups respectively. The difference between these lines represents the mean difference between the conversion rates of the two groups.\n",
    "\n",
    "Curves of both variants cross each other, therefore there is a conversion rate where both are equally likely to perform better. \n",
    "\n",
    "However, since the peak of Variant A is higher than the peak of Variant B, it suggests that Variant A has a higher chance of performing better overall. "
   ]
  },
  {
   "cell_type": "markdown",
   "id": "da630a1d",
   "metadata": {},
   "source": [
    "### Probability Distribution for H0 and H1"
   ]
  },
  {
   "cell_type": "markdown",
   "id": "d55818fa",
   "metadata": {},
   "source": [
    "The null hypothesis posits that there will be no significant difference in conversion rates between the control group and the test group, which was exposed to a reduced amount of text on the website.\n",
    "\n",
    "In contrast, the alternative hypothesis predicts that reducing the amount of text on the website will result in a change in the conversion rate, either positive or negative.\n",
    "\n",
    "To simulate the possible outcomes of the experiment, we will use the normal distribution. Under the null hypothesis, the distribution will have a mean of zero and a standard deviation equal to the pooled standard error. \n",
    "\n",
    "The alternative hypothesis will have the same standard deviation, but with the mean shifted to the difference in conversion rates between the control and test groups."
   ]
  },
  {
   "cell_type": "code",
   "execution_count": 45,
   "id": "03fe38dc",
   "metadata": {},
   "outputs": [
    {
     "name": "stdout",
     "output_type": "stream",
     "text": [
      "Pooled probability:  0.1762214983713355\n"
     ]
    }
   ],
   "source": [
    "p_pool = (p_A * N_A + p_B * N_B) / (N_A + N_B)\n",
    "print('Pooled probability: ', p_pool)"
   ]
  },
  {
   "cell_type": "code",
   "execution_count": 46,
   "id": "a7def80a",
   "metadata": {},
   "outputs": [
    {
     "data": {
      "text/plain": [
       "2.794783381447436"
      ]
     },
     "execution_count": 46,
     "metadata": {},
     "output_type": "execute_result"
    }
   ],
   "source": [
    "z = (p_B - p_A) / (p_pool * (1 - p_pool) * (1 / N_A + 1 / N_B)) ** 0.5\n",
    "z"
   ]
  },
  {
   "cell_type": "code",
   "execution_count": 47,
   "id": "5d19c671",
   "metadata": {},
   "outputs": [
    {
     "data": {
      "text/plain": [
       "True"
      ]
     },
     "execution_count": 47,
     "metadata": {},
     "output_type": "execute_result"
    }
   ],
   "source": [
    "# Check if z is greater than 1.64 (0.05 significance level)\n",
    "z > 1.64"
   ]
  },
  {
   "cell_type": "markdown",
   "id": "088d6a71",
   "metadata": {},
   "source": [
    "The value 1.64 corresponds to the z-score of the 95th percentile of the standard normal distribution. This means that if H0 is true and there is no real difference between the conversion rates of the two variants, the probability of observing a z-score greater than 1.64 (or less than -1.64) is 0.05 or less. \n",
    "\n",
    "This suggests that the probability of observing such a difference in convertion rates by chance alone is very low, and then we could reject the null hypothesis."
   ]
  },
  {
   "cell_type": "markdown",
   "id": "e5fe512a",
   "metadata": {},
   "source": [
    "#### Probability Distribution Plot"
   ]
  },
  {
   "cell_type": "code",
   "execution_count": 48,
   "id": "5cc3cea8",
   "metadata": {},
   "outputs": [],
   "source": [
    "# Function to return pooled probability\n",
    "def pooled_prob(N_A, N_B, X_A, X_B):\n",
    "    return (X_A + X_B) / (N_A + N_B)"
   ]
  },
  {
   "cell_type": "code",
   "execution_count": 49,
   "id": "60fa79a1",
   "metadata": {},
   "outputs": [],
   "source": [
    "# Function to return squared error for the two variants\n",
    "def stan_sqr_error(N_A, N_B, X_A, X_B):\n",
    "    p_hat = pooled_prob(N_A, N_B, X_A, X_B)\n",
    "    SE = np.sqrt(p_hat * (1 - p_hat) * (1 / N_A + 1 / N_B))\n",
    "    return SE"
   ]
  },
  {
   "cell_type": "code",
   "execution_count": 50,
   "id": "41cb8df6",
   "metadata": {},
   "outputs": [],
   "source": [
    "# Return z for a given significance level\n",
    "def z_val(sig_level = 0.05, two_tailed = True):\n",
    "    \n",
    "    # Distribution for z\n",
    "    z_dist = scs.norm()\n",
    "    \n",
    "    # Checks if we should check both tails\n",
    "    if two_tailed:\n",
    "        sig_level = sig_level/2\n",
    "        area = 1 - sig_level\n",
    "        \n",
    "    else:\n",
    "        area = 1 - sig_level\n",
    "\n",
    "    # Z value\n",
    "    z = z_dist.ppf(area)\n",
    "\n",
    "    return z"
   ]
  },
  {
   "cell_type": "code",
   "execution_count": 51,
   "id": "8f5c15cf",
   "metadata": {},
   "outputs": [],
   "source": [
    "# Calculates the confidence interval\n",
    "def confidence_interval(sample_mean = 0, sample_std = 1, sample_size = 1, sig_level = 0.05):\n",
    "    \n",
    "    # Z value\n",
    "    z = z_val(sig_level)\n",
    "\n",
    "    # Limits\n",
    "    left = sample_mean - z * sample_std / np.sqrt(sample_size)\n",
    "    right = sample_mean + z * sample_std / np.sqrt(sample_size)\n",
    "\n",
    "    return (left, right)"
   ]
  },
  {
   "cell_type": "code",
   "execution_count": 52,
   "id": "86c5c004",
   "metadata": {},
   "outputs": [],
   "source": [
    "# Function that calculates the two-tailed confidence interval\n",
    "def plot_CI(ax, \n",
    "            mu, \n",
    "            s, \n",
    "            sig_level = 0.05, \n",
    "            color = 'grey'):\n",
    "\n",
    "    # Confidence interval\n",
    "    left, right = confidence_interval(sample_mean = mu, sample_std = s, sig_level = sig_level)\n",
    "    \n",
    "    # Add interval in chart\n",
    "    ax.axvline(left, c = color, linestyle = '--', alpha = 0.5)\n",
    "    ax.axvline(right, c = color, linestyle = '--', alpha = 0.5)"
   ]
  },
  {
   "cell_type": "code",
   "execution_count": 53,
   "id": "708d03cc",
   "metadata": {},
   "outputs": [],
   "source": [
    "# Function to plot a normal distribution\n",
    "def plot_norm_dist(ax, \n",
    "                   mu, \n",
    "                   std, \n",
    "                   with_CI = False, \n",
    "                   sig_level = 0.05, \n",
    "                   label = None):\n",
    "\n",
    "    # Generates values for the random variable x\n",
    "    x = np.linspace(mu - 12 * std, mu + 12 * std, 1000)\n",
    "    \n",
    "    # Creates normal distribution\n",
    "    y = scs.norm(mu, std).pdf(x)\n",
    "    \n",
    "    # Plot\n",
    "    ax.plot(x, y, label = label)\n",
    "\n",
    "    # Confidence interval\n",
    "    if with_CI:\n",
    "        plot_CI(ax, mu, std, sig_level = sig_level)"
   ]
  },
  {
   "cell_type": "code",
   "execution_count": 54,
   "id": "f2b839ff",
   "metadata": {},
   "outputs": [],
   "source": [
    "# Plot H0\n",
    "def plot_H0(ax, stderr):\n",
    "    plot_norm_dist(ax, 0, stderr, label = \"H0 - Null Hypothesis\")\n",
    "    plot_CI(ax, mu = 0, s = stderr, sig_level = 0.05)"
   ]
  },
  {
   "cell_type": "code",
   "execution_count": 55,
   "id": "c71a6053",
   "metadata": {},
   "outputs": [],
   "source": [
    "# Plot H1\n",
    "def plot_H1(ax, stderr, d_hat):\n",
    "    plot_norm_dist(ax, d_hat, stderr, label = \"H1 - Alternative Hypothesis\")"
   ]
  },
  {
   "cell_type": "code",
   "execution_count": 56,
   "id": "1a838da1",
   "metadata": {},
   "outputs": [],
   "source": [
    "# Function that fills between the upper significance limit and distribution for H1\n",
    "def show_area(ax, d_hat, stderr, sig_level):\n",
    "\n",
    "    # Confidence interval\n",
    "    left, right = confidence_interval(sample_mean = 0, sample_std = stderr, sig_level = sig_level)\n",
    "    \n",
    "    # Values for x\n",
    "    x = np.linspace(-12 * stderr, 12 * stderr, 1000)\n",
    "    \n",
    "    # H0\n",
    "    null = ab_dist(stderr, 'CONTROL')\n",
    "    \n",
    "    # H1\n",
    "    alternative = ab_dist(stderr, d_hat, 'TEST')\n",
    "\n",
    "    # If the type of the area equals power\n",
    "    # We fill between the upper significance limit and the distribution for alternative hypothesis    \n",
    "    ax.fill_between(x, 0, alternative.pdf(x), color = 'green', alpha = 0.25, where = (x > right))\n",
    "    ax.text(-3 * stderr, null.pdf(0), 'power = {0:.3f}'.format(1 - alternative.cdf(right)), \n",
    "                fontsize = 12, ha = 'right', color = 'k')"
   ]
  },
  {
   "cell_type": "code",
   "execution_count": 57,
   "id": "14b79d72",
   "metadata": {},
   "outputs": [],
   "source": [
    "# Creates a distribution object depending on the group type\n",
    "def ab_dist(stderr, d_hat = 0, group_type = 'CONTROL'):\n",
    "\n",
    "    if group_type == 'CONTROL':\n",
    "        sample_mean = 0\n",
    "    elif group_type == 'TEST':\n",
    "        sample_mean = d_hat\n",
    "\n",
    "    dist = scs.norm(sample_mean, stderr)\n",
    "    return dist"
   ]
  },
  {
   "cell_type": "code",
   "execution_count": 58,
   "id": "25935640",
   "metadata": {},
   "outputs": [],
   "source": [
    "# Function to return p_value\n",
    "def p_val(N_A, N_B, p_A, p_B):\n",
    "    return scs.binom(N_A, p_A).pmf(p_B * N_B)"
   ]
  },
  {
   "cell_type": "code",
   "execution_count": 59,
   "id": "9a4f371b",
   "metadata": {},
   "outputs": [],
   "source": [
    "# Function that fills between the upper significance limit and power\n",
    "def show_area_power(ax, d_hat, stderr, sig_level):\n",
    "\n",
    "    # Confidence interval\n",
    "    left, right = confidence_interval(sample_mean = 0, sample_std = stderr, sig_level = sig_level)\n",
    "    \n",
    "    # Values for x\n",
    "    x = np.linspace(-8 * stderr, 8 * stderr, 1000)\n",
    "    \n",
    "    # H0\n",
    "    null = ab_dist(stderr, 'CONTROL')\n",
    "    \n",
    "    # H1\n",
    "    alternative = ab_dist(stderr, d_hat, 'TEST')\n",
    "\n",
    "    # Power\n",
    "    power = 1 - alternative.cdf(right)\n",
    "\n",
    "    # Fill the area between the right limit of the confidence interval and power\n",
    "    ax.fill_between(x, 0, alternative.pdf(x), color = 'red', alpha = 0.25, where = (x > left) & (x <= right))\n",
    "\n",
    "    # Add power text\n",
    "    ax.text(-3 * stderr, null.pdf(0), 'power = {0:.3f}'.format(power), \n",
    "                fontsize = 12, ha = 'right', color = 'k')"
   ]
  },
  {
   "cell_type": "code",
   "execution_count": 69,
   "id": "0e8b201c",
   "metadata": {},
   "outputs": [],
   "source": [
    "# Function for plotting the A/B Test analysis\n",
    "def abplot_func(N_A, \n",
    "                N_B, \n",
    "                bcr, \n",
    "                d_hat, \n",
    "                sig_level = 0.05, \n",
    "                show_p_value = False,\n",
    "                show_legend = True,\n",
    "                show_beta = True):\n",
    "   \n",
    "    fig, ax = plt.subplots(figsize = (14, 8))\n",
    "\n",
    "    # Defines parameters to find pooled standard error\n",
    "    X_A = bcr * N_A\n",
    "    X_B = (bcr + d_hat) * N_B\n",
    "    stderr = stan_sqr_error(N_A, N_B, X_A, X_B)\n",
    "\n",
    "    # Plot H0 & H1\n",
    "    plot_H0(ax, stderr)\n",
    "    plot_H1(ax, stderr, d_hat)\n",
    "\n",
    "    # Set the extent of the plot area\n",
    "    ax.set_xlim(-8 * stderr, 8 * stderr)\n",
    "\n",
    "    # We adjust the graphic and fill inner area\n",
    "    show_area(ax, d_hat, stderr, sig_level)\n",
    "    \n",
    "    # Fill the power area\n",
    "    if show_beta:\n",
    "        show_area_power(ax, d_hat, stderr, sig_level)\n",
    "    \n",
    "    # We show p-values based on the distributions for the two groups\n",
    "    if show_p_value:\n",
    "        null = ab_dist(stderr, 'CONTROL')\n",
    "        p_value = p_val(N_A, N_B, bcr, bcr + d_hat)\n",
    "        ax.text(3 * stderr, null.pdf(0), 'Valor-p = {0:.4f}'.format(p_value), fontsize = 14, ha = 'left')\n",
    "\n",
    "    # Legend\n",
    "    if show_legend:\n",
    "        plt.legend(loc = 'center right')\n",
    "    \n",
    "    ax.set_title('A/B Test Analysis | Statistical Power and Significance Level', fontsize=20)\n",
    "    plt.xlabel('d')\n",
    "    plt.ylabel('PDF')\n",
    "    plt.show()"
   ]
  },
  {
   "cell_type": "code",
   "execution_count": 70,
   "id": "e811a11a",
   "metadata": {},
   "outputs": [
    {
     "data": {
      "image/png": "[encoded data removed]",
      "text/plain": [
       "<Figure size 1008x576 with 1 Axes>"
      ]
     },
     "metadata": {
      "needs_background": "light"
     },
     "output_type": "display_data"
    }
   ],
   "source": [
    "# Execute function\n",
    "n = N_A + N_B\n",
    "d_hat = p_B - p_A\n",
    "abplot_func(N_A, N_B, bcr, d_hat, show_p_value = True, show_beta = False)"
   ]
  },
  {
   "cell_type": "markdown",
   "id": "afe66a27",
   "metadata": {},
   "source": [
    "Green area = True Positives, represents the statistical power. <br>\n",
    "Grey dashed lines = confidence interval (95%) of H0.<br>\n",
    "Red area = Beta. Probability of accepting H0 and reject H1 (false negative).\n",
    "\n",
    "Statistical power is calculated by finding the area under the alternative hypothesis distribution and outside of the confidence interval of the null hypothesis.\n",
    "\n",
    "Once the experiment was completed, we obtained a conversion rate for each group. By calculating the difference between the two rates, we obtain the effect of the change in the amount of text on the website. Our goal is to identify which hypothesis, null or alternative, the effect belongs to.\n",
    "\n",
    "The alternative hypothesis curve has an area of 1, which represents the possibility that the alternative design is better. The power of the test is the probability of correctly accepting the alternative hypothesis and rejecting the null hypothesis, which is represented by the green area."
   ]
  },
  {
   "cell_type": "code",
   "execution_count": 62,
   "id": "f8b3a932",
   "metadata": {},
   "outputs": [
    {
     "data": {
      "image/png": "[encoded data removed]",
      "text/plain": [
       "<Figure size 1008x576 with 1 Axes>"
      ]
     },
     "metadata": {
      "needs_background": "light"
     },
     "output_type": "display_data"
    }
   ],
   "source": [
    "abplot_func(N_A, N_B, bcr, d_hat, show_p_value = True, show_beta = True)"
   ]
  },
  {
   "cell_type": "markdown",
   "id": "d0767284",
   "metadata": {},
   "source": [
    "### Conclusion \n",
    "\n",
    "Based on the power of the analysis, which was 0.807, we can conclude that **there is a high probability that the difference between variant A and B is statistically significant**. This means that the difference in performance between the two variants is likely not due to chance.\n",
    "\n",
    "Since variant B performed better than variant A, we can confidently conclude that implementing variant B on the website will result in a higher conversion rate, which aligns with the goal of the analysis - to increase the number of demos.\n",
    "\n",
    "By reducing the amount of text on the website and implementing variant B, the company is likely to see an increase in the number of demos, as users are more likely to engage with the website and take the desired action."
   ]
  }
 ],
 "metadata": {
  "kernelspec": {
   "display_name": "Python 3 (ipykernel)",
   "language": "python",
   "name": "python3"
  },
  "language_info": {
   "codemirror_mode": {
    "name": "ipython",
    "version": 3
   },
   "file_extension": ".py",
   "mimetype": "text/x-python",
   "name": "python",
   "nbconvert_exporter": "python",
   "pygments_lexer": "ipython3",
   "version": "3.10.10"
  }
 },
 "nbformat": 4,
 "nbformat_minor": 5
}
